{
 "cells": [
  {
   "cell_type": "markdown",
   "metadata": {},
   "source": [
    "# Introducción al Análisis de Datos\n",
    "El análisis de datos es primordial en las tareas de reconocimiento de patrones. La manipulación de los datos para obtener información útil puede llevarse a cabo mediante métodos heurísticos (experiencia, prueba y error) o mediante la aplicación de algoritmos sofisticados.\n",
    "\n",
    "En este documento se explorará el análisis heurístico de los datos utilizando bases de datos de dominio público y código Python."
   ]
  },
  {
   "cell_type": "markdown",
   "metadata": {},
   "source": [
    "Comenzamos por declarar nuestras librerías."
   ]
  },
  {
   "cell_type": "code",
   "execution_count": 1,
   "metadata": {},
   "outputs": [],
   "source": [
    "import numpy as np\n",
    "import pandas as pd\n",
    "import matplotlib.pyplot as plt"
   ]
  },
  {
   "cell_type": "markdown",
   "metadata": {},
   "source": [
    "El conjunto de datos con el cual trabajaremos (https://archive.ics.uci.edu/ml/datasets/forest+fires) se encuentra en formato CSV, es decir, Valores Separados por Comas. Como su nombre lo indica, un archivo CSV es un archivo de texto (puede crearse en un simple bloc de notas), donde los datos (características o atributos) de una muestra están separados por comas, y cada muestra se encuentra en un renglón diferente. Estos archivos son reconocibles para muchos softwares de análisis de datos como lo son Microsoft Excel, Matlab y R.\n",
    "\n",
    "El primer paso es entonces, leer el archivo donde se encuentra el conjunto de datos. Esto se puede realizar de diferentes maneras, con diferentes librerías, pero nosotros usaremos pandas:"
   ]
  },
  {
   "cell_type": "code",
   "execution_count": 2,
   "metadata": {},
   "outputs": [
    {
     "data": {
      "text/plain": [
       "X           7\n",
       "Y           5\n",
       "month     mar\n",
       "day       fri\n",
       "FFMC     86.2\n",
       "DMC      26.2\n",
       "DC       94.3\n",
       "ISI       5.1\n",
       "temp      8.2\n",
       "RH         51\n",
       "wind      6.7\n",
       "rain        0\n",
       "area        0\n",
       "Name: 0, dtype: object"
      ]
     },
     "execution_count": 2,
     "metadata": {},
     "output_type": "execute_result"
    }
   ],
   "source": [
    "# Leer el archivo CSV\n",
    "dataset = pd.read_csv('forestfires.csv')\n",
    "\n",
    "# Imprime la primera muestra\n",
    "dataset.iloc[0]"
   ]
  },
  {
   "cell_type": "markdown",
   "metadata": {},
   "source": [
    "El conjunto de datos que leímos representa los datos recopilados del bosque situado en el Parque Montesinho en Portugal. En él se analizan los incendios forestales ocurridos entre los años de 1980 y 2005. \n",
    "Podemos observar que el conjunto de datos contiene trece atributos o características:\n",
    "\n",
    "1. X     - Coordenada espacial X dentro del Parque Montesinho. Rango [1, 9]\n",
    "2. Y     - Coordenada espacial Y dentro del Parque Montesinho. Rango [2, 9]\n",
    "3. month - Mes del año en inglés. \"jan\", \"feb\", \"mar\", ... , \"dec\"\n",
    "4. day   - Día de la semana en inglés. \"mon\", \"tue\", \"wed\", ... \"sun\"\n",
    "5. FFMC  - Índice FFMC del sistema FWI*. Rango [18.7, 96.2]\n",
    "6. DMC   - Índice DMC del sistema FWI. Rango [1.1, 291.3]\n",
    "7. DC    - Índice DC del sistema FWI. Rango [7.9, 860.6]\n",
    "8. ISI   - Índice ISI del sistema FWI. Rango [0.0, 56.10]\n",
    "9. temp  - Temperatura en grados Celsius. Rango [2.2, 33.30]\n",
    "10. RH   - Humedad relativa en %. Rango [15.0, 100]\n",
    "11. wind - Velocidad del viento en km/h. Rango [0.40, 9.40]\n",
    "12. rain - Lluvia en mm/m2. Rango [0.0, 6.4]\n",
    "13. area - El área quemada en el bosque en hectáreas. Rango [0.0, 1090.84]\n",
    "\n",
    "*FWI - Canadian Wildland Fire Information System (http://cwfis.cfs.nrcan.gc.ca/background/summary/fwi)"
   ]
  },
  {
   "cell_type": "code",
   "execution_count": 3,
   "metadata": {},
   "outputs": [
    {
     "data": {
      "text/plain": [
       "(517, 13)"
      ]
     },
     "execution_count": 3,
     "metadata": {},
     "output_type": "execute_result"
    }
   ],
   "source": [
    "# Imprime el número de muestras y el número de atributos del conjunto de datos\n",
    "dataset.shape"
   ]
  },
  {
   "cell_type": "markdown",
   "metadata": {},
   "source": [
    "### ¿Qué hay en mi conjunto de datos?"
   ]
  },
  {
   "cell_type": "code",
   "execution_count": 4,
   "metadata": {},
   "outputs": [
    {
     "data": {
      "text/html": [
       "<div>\n",
       "<style scoped>\n",
       "    .dataframe tbody tr th:only-of-type {\n",
       "        vertical-align: middle;\n",
       "    }\n",
       "\n",
       "    .dataframe tbody tr th {\n",
       "        vertical-align: top;\n",
       "    }\n",
       "\n",
       "    .dataframe thead th {\n",
       "        text-align: right;\n",
       "    }\n",
       "</style>\n",
       "<table border=\"1\" class=\"dataframe\">\n",
       "  <thead>\n",
       "    <tr style=\"text-align: right;\">\n",
       "      <th></th>\n",
       "      <th>X</th>\n",
       "      <th>Y</th>\n",
       "      <th>month</th>\n",
       "      <th>day</th>\n",
       "      <th>FFMC</th>\n",
       "      <th>DMC</th>\n",
       "      <th>DC</th>\n",
       "      <th>ISI</th>\n",
       "      <th>temp</th>\n",
       "      <th>RH</th>\n",
       "      <th>wind</th>\n",
       "      <th>rain</th>\n",
       "      <th>area</th>\n",
       "    </tr>\n",
       "  </thead>\n",
       "  <tbody>\n",
       "    <tr>\n",
       "      <th>0</th>\n",
       "      <td>7</td>\n",
       "      <td>5</td>\n",
       "      <td>mar</td>\n",
       "      <td>fri</td>\n",
       "      <td>86.2</td>\n",
       "      <td>26.2</td>\n",
       "      <td>94.3</td>\n",
       "      <td>5.1</td>\n",
       "      <td>8.2</td>\n",
       "      <td>51</td>\n",
       "      <td>6.7</td>\n",
       "      <td>0.0</td>\n",
       "      <td>0.0</td>\n",
       "    </tr>\n",
       "    <tr>\n",
       "      <th>1</th>\n",
       "      <td>7</td>\n",
       "      <td>4</td>\n",
       "      <td>oct</td>\n",
       "      <td>tue</td>\n",
       "      <td>90.6</td>\n",
       "      <td>35.4</td>\n",
       "      <td>669.1</td>\n",
       "      <td>6.7</td>\n",
       "      <td>18.0</td>\n",
       "      <td>33</td>\n",
       "      <td>0.9</td>\n",
       "      <td>0.0</td>\n",
       "      <td>0.0</td>\n",
       "    </tr>\n",
       "    <tr>\n",
       "      <th>2</th>\n",
       "      <td>7</td>\n",
       "      <td>4</td>\n",
       "      <td>oct</td>\n",
       "      <td>sat</td>\n",
       "      <td>90.6</td>\n",
       "      <td>43.7</td>\n",
       "      <td>686.9</td>\n",
       "      <td>6.7</td>\n",
       "      <td>14.6</td>\n",
       "      <td>33</td>\n",
       "      <td>1.3</td>\n",
       "      <td>0.0</td>\n",
       "      <td>0.0</td>\n",
       "    </tr>\n",
       "    <tr>\n",
       "      <th>3</th>\n",
       "      <td>8</td>\n",
       "      <td>6</td>\n",
       "      <td>mar</td>\n",
       "      <td>fri</td>\n",
       "      <td>91.7</td>\n",
       "      <td>33.3</td>\n",
       "      <td>77.5</td>\n",
       "      <td>9.0</td>\n",
       "      <td>8.3</td>\n",
       "      <td>97</td>\n",
       "      <td>4.0</td>\n",
       "      <td>0.2</td>\n",
       "      <td>0.0</td>\n",
       "    </tr>\n",
       "    <tr>\n",
       "      <th>4</th>\n",
       "      <td>8</td>\n",
       "      <td>6</td>\n",
       "      <td>mar</td>\n",
       "      <td>sun</td>\n",
       "      <td>89.3</td>\n",
       "      <td>51.3</td>\n",
       "      <td>102.2</td>\n",
       "      <td>9.6</td>\n",
       "      <td>11.4</td>\n",
       "      <td>99</td>\n",
       "      <td>1.8</td>\n",
       "      <td>0.0</td>\n",
       "      <td>0.0</td>\n",
       "    </tr>\n",
       "    <tr>\n",
       "      <th>5</th>\n",
       "      <td>8</td>\n",
       "      <td>6</td>\n",
       "      <td>aug</td>\n",
       "      <td>sun</td>\n",
       "      <td>92.3</td>\n",
       "      <td>85.3</td>\n",
       "      <td>488.0</td>\n",
       "      <td>14.7</td>\n",
       "      <td>22.2</td>\n",
       "      <td>29</td>\n",
       "      <td>5.4</td>\n",
       "      <td>0.0</td>\n",
       "      <td>0.0</td>\n",
       "    </tr>\n",
       "    <tr>\n",
       "      <th>6</th>\n",
       "      <td>8</td>\n",
       "      <td>6</td>\n",
       "      <td>aug</td>\n",
       "      <td>mon</td>\n",
       "      <td>92.3</td>\n",
       "      <td>88.9</td>\n",
       "      <td>495.6</td>\n",
       "      <td>8.5</td>\n",
       "      <td>24.1</td>\n",
       "      <td>27</td>\n",
       "      <td>3.1</td>\n",
       "      <td>0.0</td>\n",
       "      <td>0.0</td>\n",
       "    </tr>\n",
       "    <tr>\n",
       "      <th>7</th>\n",
       "      <td>8</td>\n",
       "      <td>6</td>\n",
       "      <td>aug</td>\n",
       "      <td>mon</td>\n",
       "      <td>91.5</td>\n",
       "      <td>145.4</td>\n",
       "      <td>608.2</td>\n",
       "      <td>10.7</td>\n",
       "      <td>8.0</td>\n",
       "      <td>86</td>\n",
       "      <td>2.2</td>\n",
       "      <td>0.0</td>\n",
       "      <td>0.0</td>\n",
       "    </tr>\n",
       "    <tr>\n",
       "      <th>8</th>\n",
       "      <td>8</td>\n",
       "      <td>6</td>\n",
       "      <td>sep</td>\n",
       "      <td>tue</td>\n",
       "      <td>91.0</td>\n",
       "      <td>129.5</td>\n",
       "      <td>692.6</td>\n",
       "      <td>7.0</td>\n",
       "      <td>13.1</td>\n",
       "      <td>63</td>\n",
       "      <td>5.4</td>\n",
       "      <td>0.0</td>\n",
       "      <td>0.0</td>\n",
       "    </tr>\n",
       "    <tr>\n",
       "      <th>9</th>\n",
       "      <td>7</td>\n",
       "      <td>5</td>\n",
       "      <td>sep</td>\n",
       "      <td>sat</td>\n",
       "      <td>92.5</td>\n",
       "      <td>88.0</td>\n",
       "      <td>698.6</td>\n",
       "      <td>7.1</td>\n",
       "      <td>22.8</td>\n",
       "      <td>40</td>\n",
       "      <td>4.0</td>\n",
       "      <td>0.0</td>\n",
       "      <td>0.0</td>\n",
       "    </tr>\n",
       "  </tbody>\n",
       "</table>\n",
       "</div>"
      ],
      "text/plain": [
       "   X  Y month  day  FFMC    DMC     DC   ISI  temp  RH  wind  rain  area\n",
       "0  7  5   mar  fri  86.2   26.2   94.3   5.1   8.2  51   6.7   0.0   0.0\n",
       "1  7  4   oct  tue  90.6   35.4  669.1   6.7  18.0  33   0.9   0.0   0.0\n",
       "2  7  4   oct  sat  90.6   43.7  686.9   6.7  14.6  33   1.3   0.0   0.0\n",
       "3  8  6   mar  fri  91.7   33.3   77.5   9.0   8.3  97   4.0   0.2   0.0\n",
       "4  8  6   mar  sun  89.3   51.3  102.2   9.6  11.4  99   1.8   0.0   0.0\n",
       "5  8  6   aug  sun  92.3   85.3  488.0  14.7  22.2  29   5.4   0.0   0.0\n",
       "6  8  6   aug  mon  92.3   88.9  495.6   8.5  24.1  27   3.1   0.0   0.0\n",
       "7  8  6   aug  mon  91.5  145.4  608.2  10.7   8.0  86   2.2   0.0   0.0\n",
       "8  8  6   sep  tue  91.0  129.5  692.6   7.0  13.1  63   5.4   0.0   0.0\n",
       "9  7  5   sep  sat  92.5   88.0  698.6   7.1  22.8  40   4.0   0.0   0.0"
      ]
     },
     "execution_count": 4,
     "metadata": {},
     "output_type": "execute_result"
    }
   ],
   "source": [
    "# Imprime las primeras diez muestras\n",
    "dataset.iloc[range(10)]"
   ]
  },
  {
   "cell_type": "markdown",
   "metadata": {},
   "source": [
    "El análisis de datos comienza con la formulación de preguntas, en muchas ocasiones es posible contestarlas a partir de datos adquiridos mediante sensores, encuestas, registros, imágenes, etc. Sin embargo, las respuestas no se encuentran a simple vista, por esto, es necesaria la manipulación de los datos, pues de esta manera podremos obtener la información que nos interesa.\n",
    "\n",
    "### ¿En qué mes del año son más frecuentes los incendios forestales? \n",
    "\n",
    "Esta pregunta resulta bastante obvia. Un poco de código puede ayudar a contestarla."
   ]
  },
  {
   "cell_type": "code",
   "execution_count": 5,
   "metadata": {},
   "outputs": [
    {
     "data": {
      "text/plain": [
       "[2, 20, 54, 9, 2, 17, 32, 184, 172, 15, 1, 9]"
      ]
     },
     "execution_count": 5,
     "metadata": {},
     "output_type": "execute_result"
    }
   ],
   "source": [
    "# Genera un diccionario de meses del año\n",
    "monthName = [\"jan\", \"feb\", \"mar\", \"apr\", \"may\", \"jun\", \"jul\", \"aug\", \"sep\", \"oct\", \"nov\", \"dec\"]\n",
    "\n",
    "# Cuenta cuántos incendios ocurrieron en cada mes\n",
    "firesPerMonth = []\n",
    "for month in monthName:\n",
    "    nFires = dataset[ dataset[\"month\"] == month ].shape[0]\n",
    "    firesPerMonth.append(nFires)\n",
    "\n",
    "# Imprime tus resultados\n",
    "firesPerMonth"
   ]
  },
  {
   "cell_type": "markdown",
   "metadata": {},
   "source": [
    "El código anterior nos muestra el número de incendios ocurridos en cada mes del año. Sin embargo, las personas tenemos más facilidad para entender la información de manera gráfica, que observando un conjunto de números."
   ]
  },
  {
   "cell_type": "code",
   "execution_count": 11,
   "metadata": {},
   "outputs": [
    {
     "data": {
      "image/png": "[encoded data removed]",
      "text/plain": [
       "<Figure size 432x288 with 1 Axes>"
      ]
     },
     "metadata": {
      "needs_background": "light"
     },
     "output_type": "display_data"
    }
   ],
   "source": [
    "plt.bar(monthName, firesPerMonth)  # Gráfico de barras\n",
    "plt.xlabel('Month')                # Etiqueta del eje X\n",
    "plt.ylabel('Fires per month')      # Etiqueta del eje Y\n",
    "plt.title('Fire occurrences per month') # Título del gráfico\n",
    "plt.show()                         # Muestra la gráfica"
   ]
  },
  {
   "cell_type": "markdown",
   "metadata": {},
   "source": [
    "La gráfica revela que la mayoría de los incendios forestales se presentan en los meses de agosto y septiembre, los cuales corresponden con el verano en Portugal.\n",
    "\n",
    "Podríamos pensar que esta gráfica nos revela toda la verdad acerca de los incendios en el Parque Montesinho, pero el resto de los atributos pueden revelarnos una información más detallada. Analicemos los incendios que devastaron un área mayor, y en qué mes ocurrieron."
   ]
  },
  {
   "cell_type": "code",
   "execution_count": 10,
   "metadata": {},
   "outputs": [
    {
     "data": {
      "image/png": "[encoded data removed]",
      "text/plain": [
       "<Figure size 432x288 with 1 Axes>"
      ]
     },
     "metadata": {
      "needs_background": "light"
     },
     "output_type": "display_data"
    }
   ],
   "source": [
    "areaThreshold = 30\n",
    "\n",
    "# Encuentra los incendios que afectaron un área mayor a \"areaThreshold\"\n",
    "firesPerArea = dataset[ dataset['area'] >= areaThreshold ]\n",
    "\n",
    "# Encuentra en qué meses se presentaron dichos incendios\n",
    "firesPerMonthAndArea = []\n",
    "for month in monthName:\n",
    "    nFires = firesPerArea[ firesPerArea[\"month\"] == month ].shape[0]\n",
    "    firesPerMonthAndArea.append(nFires)\n",
    "    \n",
    "# Grafica los resultados\n",
    "plt.bar(monthName, firesPerMonthAndArea)  # Gráfico de barras\n",
    "plt.xlabel('Month')                # Etiqueta del eje X\n",
    "plt.ylabel('Fires per month')      # Etiqueta del eje Y\n",
    "plt.title('Fires that affected an area above ' + str(areaThreshold) ) # Título del gráfico\n",
    "plt.show()                         # Muestra la gráfica"
   ]
  },
  {
   "cell_type": "markdown",
   "metadata": {},
   "source": [
    "El gráfico anterior confirma el hecho de que la mayoría de los incendios ocurrieron en los meses de agosto y septiembre, además, nos indica que dichos incendios han sido los más devastadores, pues han consumido mayores áreas.\n",
    "\n",
    "Los procesos que hemos realizado sobre los datos son parte de lo que llamamos \"Análisis Exploratorio de Datos\". Este nos permite encontrar datos fuera de lo común (outliers), necesidad de transformar los datos, así como ideas acerca de qué modelo puede servir para descubrir la información que nos interesa.\n",
    "\n",
    "### Actividad 1\n",
    "Utilizando la misma base de incendios forestales, códigos Python y tu buena intuición, encuentra la relación entre la cantidad de incendios forestales, las regiones afectadas más frecuentemente y la actividad humana.\n",
    "\n",
    "Genera un reporte sencillo, con un máximo de dos cuartillas donde muestres los resultados obtenidos y las conclusiones a que llegaste. Utiliza gráficos, mapas, tablas o cualquier herramienta que ayude a visualizar la información con facilidad. Recuerda que toda herramienta visual debe estar acompañada de un texto de apoyo que ayude al lector a entender tus resultados y el cómo formulaste tus conclusiones.\n",
    "\n",
    "PISTAS:\n",
    "- Para conocer la verdadera ubicación de las regiones afectadas, busca y descarga un mapa del Parque Montesinho. \n",
    "- Considera que la actividad humana en la zona se incrementa en las temporadas vacacionales.\n"
   ]
  },
  {
   "cell_type": "markdown",
   "metadata": {},
   "source": [
    "# Dataset\n",
    "https://archive.ics.uci.edu/ml/datasets/forest+fires"
   ]
  },
  {
   "cell_type": "code",
   "execution_count": null,
   "metadata": {},
   "outputs": [],
   "source": []
  }
 ],
 "metadata": {
  "kernelspec": {
   "display_name": "Python 3",
   "language": "python",
   "name": "python3"
  },
  "language_info": {
   "codemirror_mode": {
    "name": "ipython",
    "version": 3
   },
   "file_extension": ".py",
   "mimetype": "text/x-python",
   "name": "python",
   "nbconvert_exporter": "python",
   "pygments_lexer": "ipython3",
   "version": "3.7.0"
  }
 },
 "nbformat": 4,
 "nbformat_minor": 2
}
